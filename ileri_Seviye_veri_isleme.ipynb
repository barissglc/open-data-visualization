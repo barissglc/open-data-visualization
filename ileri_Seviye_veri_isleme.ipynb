{
 "cells": [
  {
   "cell_type": "code",
   "execution_count": null,
   "id": "1a93fa83",
   "metadata": {},
   "outputs": [],
   "source": [
    "\n",
    "import numpy as np\n",
    "import pandas as pd\n",
    "from ydata_profiling import ProfileReport\n",
    "\n",
    "df = pd.DataFrame(np.random.rand(100, 5), columns=[\"a\", \"b\", \"c\", \"d\", \"e\"])\n",
    "profile = ProfileReport(df, title=\"Profiling Report\")\n",
    "profile.to_file(\"../outputs/test-profiling.html\")"
   ]
  },
  {
   "cell_type": "code",
   "execution_count": null,
   "id": "d5f8c46a",
   "metadata": {},
   "outputs": [],
   "source": [
    "from IPython.core.interactiveshell import InteractiveShell\n",
    "InteractiveShell.ast_node_interactivity = 'all'\n",
    "\n",
    "import matplotlib.pyplot as plt\n",
    "import seaborn as sns \n",
    "\n",
    "import pandas as pd\n",
    "import numpy as np\n",
    "\n",
    "import json\n",
    "import xmltodict\n",
    "import xml.etree.ElementTree as ET\n",
    "\n",
    "from zipfile import ZipFile\n",
    "from io import BytesIO\n",
    "from urllib.request import urlopen\n",
    "from urllib.parse import urlencode"
   ]
  },
  {
   "cell_type": "code",
   "execution_count": null,
   "id": "95038a3e",
   "metadata": {},
   "outputs": [],
   "source": [
    "balik_2023 = pd.read_csv(\"https://acikveri.bizizmir.com/tr/datastore/dump/fc85a6e6-9061-489b-9508-e41b7f6fc67d?bom=True\")\n",
    "balik_2024 = pd.read_csv(\"https://acikveri.bizizmir.com/tr/datastore/dump/f7f664c3-8589-482b-a21a-36b2b62e0055?bom=True\")\n",
    "balik_2024.tail()"
   ]
  },
  {
   "cell_type": "code",
   "execution_count": null,
   "id": "12af5c16",
   "metadata": {},
   "outputs": [],
   "source": [
    "balik_2024.loc[:,\"MAL_ADI\"]"
   ]
  },
  {
   "cell_type": "code",
   "execution_count": null,
   "id": "d8855acc",
   "metadata": {},
   "outputs": [],
   "source": [
    "pd.read_excel(\"https://data.ibb.gov.tr/dataset/321aa12d-a388-4c61-b915-522730b8230a/resource/f676e493-8995-4e50-90b3-5381da92627f/download/rayl-sistemler-hat-bazl-sefer-saylar.xlsx\")\n"
   ]
  },
  {
   "cell_type": "code",
   "execution_count": null,
   "id": "77c6441d",
   "metadata": {},
   "outputs": [],
   "source": [
    "xls = pd.read_excel(\"https://data.ibb.gov.tr/dataset/321aa12d-a388-4c61-b915-522730b8230a/resource/f676e493-8995-4e50-90b3-5381da92627f/download/rayl-sistemler-hat-bazl-sefer-saylar.xlsx\")\n",
    "xls['Tarih'] = pd.to_datetime(xls['Tarih'])\n",
    "xls.index = xls['Tarih']\n",
    "xls.drop(columns=\"Tarih\", inplace=True)\n",
    "xls.fillna(0, inplace=True)\n",
    "metrolar = [\"M\"+str(i)for i in range(1,6)]\n",
    "kismi_xls=xls.loc[:, metrolar]\n",
    "kismi_xls"
   ]
  },
  {
   "cell_type": "code",
   "execution_count": null,
   "id": "5626579f",
   "metadata": {},
   "outputs": [],
   "source": [
    "%matplotlib inline\n",
    "kismi_xls.plot(figsize=(20,4))"
   ]
  },
  {
   "cell_type": "code",
   "execution_count": null,
   "id": "d7c50b5c",
   "metadata": {},
   "outputs": [],
   "source": [
    "kismi_xls.tail(24)"
   ]
  },
  {
   "cell_type": "code",
   "execution_count": null,
   "id": "ec5d9c70",
   "metadata": {},
   "outputs": [],
   "source": [
    "\n",
    "import os\n",
    "from sqlalchemy import create_engine\n",
    "\n",
    "DataFolderName=\"../data/data-type\"\n",
    "\n",
    "def rfd(filename):\n",
    "    return os.path.join(DataFolderName, filename)\n",
    "\n",
    "if not os.path.exists(DataFolderName):\n",
    "    os.mkdir(DataFolderName)\n",
    "\n",
    "os.listdir(DataFolderName)"
   ]
  },
  {
   "cell_type": "code",
   "execution_count": null,
   "id": "427a0d63",
   "metadata": {},
   "outputs": [],
   "source": [
    "kismi_xls.reset_index(inplace=True)"
   ]
  },
  {
   "cell_type": "code",
   "execution_count": null,
   "id": "74b00cc0",
   "metadata": {},
   "outputs": [],
   "source": [
    "kismi_xls"
   ]
  },
  {
   "cell_type": "code",
   "execution_count": null,
   "id": "64be790a",
   "metadata": {},
   "outputs": [],
   "source": [
    "kismi_xls.to_csv(rfd(\"csv-example.csv\"))\n",
    "kismi_xls.to_json(rfd(\"json-example.json\"))\n",
    "kismi_xls.to_parquet(rfd(\"parquet-example.parquet\"), engine='auto',index=False)"
   ]
  },
  {
   "cell_type": "code",
   "execution_count": null,
   "id": "8360af9c",
   "metadata": {},
   "outputs": [],
   "source": [
    "engine=create_engine(os.path.join(\"sqlite:///\", DataFolderName, \"sql-example.sqlite\"), echo=True)\n",
    "kismi_xls.to_sql(\"kismi-veri\", con=engine, index=False)\n",
    "\n",
    "engine=create_engine(os.path.join(\"sqlite:///\", DataFolderName, \"sql-example-multi.sqlite\"), echo=True)\n",
    "kismi_xls.to_sql(\"kismi-veri\", con=engine, index=False)\n",
    "xls.to_sql(\"full-veri\", con=engine, index=False)"
   ]
  },
  {
   "cell_type": "code",
   "execution_count": null,
   "id": "3f275a5b",
   "metadata": {},
   "outputs": [],
   "source": [
    "engine=create_engine(os.path.join(\"sqlite:///\", DataFolderName, \"sql-example.sqlite\"), echo=False)\n",
    "data_sql = pd.read_sql(\"kismi-veri\", con=engine)\n",
    "data_sql.head()"
   ]
  },
  {
   "cell_type": "code",
   "execution_count": null,
   "id": "557850f1",
   "metadata": {},
   "outputs": [],
   "source": [
    "pd.read_parquet(rfd(\"parquet-example.parquet\"))"
   ]
  },
  {
   "cell_type": "code",
   "execution_count": null,
   "id": "1ea43761",
   "metadata": {},
   "outputs": [],
   "source": [
    "with urlopen(\"http://www.ecb.europa.eu/stats/eurofxref/eurofxref-daily.xml\") as url:\n",
    "    raw = url.read()"
   ]
  },
  {
   "cell_type": "code",
   "execution_count": null,
   "id": "2b914f60",
   "metadata": {},
   "outputs": [],
   "source": [
    "raw"
   ]
  },
  {
   "cell_type": "code",
   "execution_count": null,
   "id": "9e721b68",
   "metadata": {},
   "outputs": [],
   "source": [
    "dict = xmltodict.parse(raw)\n",
    "dict"
   ]
  },
  {
   "cell_type": "code",
   "execution_count": null,
   "id": "7d2922b5",
   "metadata": {},
   "outputs": [],
   "source": [
    "pd.DataFrame.from_dict(dict['gesmes:Envelope']['Cube']['Cube']['Cube'])"
   ]
  },
  {
   "cell_type": "code",
   "execution_count": null,
   "id": "0bb74f72",
   "metadata": {},
   "outputs": [],
   "source": [
    "!mkdir -p ../data/dicom_examples\n",
    "!tar -xvzf ../data/0219191_mystudy-0219-1114.tar.gz -C ../data/dicom_examples\n",
    "!gzip -d ../data/dicom_examples/0219191_mystudy-0219-1114/dcm/*dcm.gz"
   ]
  },
  {
   "cell_type": "code",
   "execution_count": null,
   "id": "f2039eaa",
   "metadata": {},
   "outputs": [],
   "source": [
    "!mkdir -p ../data/dicom_examples/nii\n",
    "!dcm2niix -z y -o ../data/dicom_examples/nii ../data/dicom_examples/0219191_mystudy-0219-1114/"
   ]
  },
  {
   "cell_type": "code",
   "execution_count": null,
   "id": "1e19f3aa",
   "metadata": {},
   "outputs": [],
   "source": [
    "import nibabel as nib\n",
    "mri_1 = nib.load(\"../data/dicom_examples/nii/0219191_mystudy-0219-1114_anat_ses-01_T1w_20190219111436_5.nii.gz\")\n",
    "\n",
    "print(mri_1)\n"
   ]
  },
  {
   "cell_type": "code",
   "execution_count": null,
   "id": "8a98b048",
   "metadata": {},
   "outputs": [],
   "source": [
    "mri_veri=mri_1.get_fdata()\n",
    "mri_veri.shape"
   ]
  },
  {
   "cell_type": "code",
   "execution_count": null,
   "id": "7fec2887",
   "metadata": {},
   "outputs": [],
   "source": [
    "mri_veri"
   ]
  },
  {
   "cell_type": "code",
   "execution_count": null,
   "id": "7d2cba78",
   "metadata": {},
   "outputs": [],
   "source": [
    "plt.imshow(mri_veri[40,:,:].T, cmap=\"gray\")"
   ]
  },
  {
   "cell_type": "code",
   "execution_count": null,
   "id": "5f006f7b",
   "metadata": {},
   "outputs": [],
   "source": [
    "plt.imshow(mri_veri[70,:,:].T, cmap=\"gray\")"
   ]
  },
  {
   "cell_type": "code",
   "execution_count": null,
   "id": "b1791329",
   "metadata": {},
   "outputs": [],
   "source": [
    "def show_slices(slices):\n",
    "   \"\"\" Function to display row of image slices \"\"\"\n",
    "   fig, axes = plt.subplots(1, len(slices))\n",
    "   for i, slice in enumerate(slices):\n",
    "       axes[i].imshow(slice.T, cmap=\"gray\", origin=\"lower\")\n",
    "\n",
    "slice_0 = mri_veri[:, 20, :]\n",
    "slice_1 = mri_veri[:, 100, :]\n",
    "slice_2 = mri_veri[:, 190, :]\n",
    "show_slices([slice_0, slice_1, slice_2])\n",
    "plt.suptitle(\"Axis0, Axis1, Axis 2\")  "
   ]
  },
  {
   "cell_type": "code",
   "execution_count": null,
   "id": "05e8ad35",
   "metadata": {},
   "outputs": [],
   "source": [
    "from nilearn.datasets import MNI152_FILE_PATH\n",
    "print(f\"Path to MNI152 template: {MNI152_FILE_PATH!r}\")\n",
    "\n",
    "from nilearn.plotting import plot_img, view_img\n",
    "plot_img(MNI152_FILE_PATH);"
   ]
  },
  {
   "cell_type": "code",
   "execution_count": null,
   "id": "88d1a1c1",
   "metadata": {},
   "outputs": [],
   "source": [
    "view_img(mri_1)\""
   ]
  },
  {
   "cell_type": "code",
   "execution_count": null,
   "id": "0c8257ea",
   "metadata": {},
   "outputs": [],
   "source": [
    "plot_img(mri_1)"
   ]
  }
 ],
 "metadata": {},
 "nbformat": 4,
 "nbformat_minor": 5
}
